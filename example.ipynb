{
 "metadata": {
  "name": ""
 },
 "nbformat": 3,
 "nbformat_minor": 0,
 "worksheets": [
  {
   "cells": [
    {
     "cell_type": "code",
     "collapsed": false,
     "input": [
      "from brain_view import Brain, clear_brain"
     ],
     "language": "python",
     "metadata": {},
     "outputs": [],
     "prompt_number": 1
    },
    {
     "cell_type": "code",
     "collapsed": false,
     "input": [
      "Brain(\"/Users/keshavan/data/ds008/sub003/anatomy/highres001.nii.gz\")"
     ],
     "language": "python",
     "metadata": {},
     "outputs": [
      {
       "html": [
        "<iframe src=\"http://localhost:8000/viewer.html\" \n",
        "                   width=\"600\" \n",
        "                   height=\"450\" \n",
        "                   scrolling=\"no\" \n",
        "                   frameBorder=\"0\">\n",
        "                   </iframe>"
       ],
       "metadata": {},
       "output_type": "pyout",
       "prompt_number": 5,
       "text": [
        "<brain_view.Brain at 0x1043ba410>"
       ]
      }
     ],
     "prompt_number": 5
    },
    {
     "cell_type": "code",
     "collapsed": false,
     "input": [
      "ls"
     ],
     "language": "python",
     "metadata": {},
     "outputs": [
      {
       "output_type": "stream",
       "stream": "stdout",
       "text": [
        "brain_view.ipynb  example.ipynb     papaya.js\r\n",
        "brain_view.py     myhtml.txt        \u001b[34mpapaya_data\u001b[m\u001b[m/\r\n",
        "brain_view.pyc    papaya.css        viewer.html\r\n"
       ]
      }
     ],
     "prompt_number": 6
    },
    {
     "cell_type": "code",
     "collapsed": false,
     "input": [
      "clear_brain()"
     ],
     "language": "python",
     "metadata": {},
     "outputs": [],
     "prompt_number": 7
    },
    {
     "cell_type": "code",
     "collapsed": false,
     "input": [
      "ls"
     ],
     "language": "python",
     "metadata": {},
     "outputs": [
      {
       "output_type": "stream",
       "stream": "stdout",
       "text": [
        "brain_view.ipynb  brain_view.pyc    myhtml.txt        papaya.js\r\n",
        "brain_view.py     example.ipynb     papaya.css\r\n"
       ]
      }
     ],
     "prompt_number": 8
    },
    {
     "cell_type": "code",
     "collapsed": false,
     "input": [],
     "language": "python",
     "metadata": {},
     "outputs": []
    }
   ],
   "metadata": {}
  }
 ]
}